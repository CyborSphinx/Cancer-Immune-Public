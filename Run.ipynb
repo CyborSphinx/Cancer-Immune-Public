{
 "cells": [
  {
   "cell_type": "code",
   "execution_count": 1,
   "metadata": {},
   "outputs": [],
   "source": [
    "\n",
    "import numpy as np\n",
    "import matplotlib.pyplot as plt\n",
    "from Class import *"
   ]
  },
  {
   "cell_type": "code",
   "execution_count": 2,
   "metadata": {},
   "outputs": [],
   "source": [
    "\n",
    "def simulate(data,Grids_:Grids,Lymph:Lymph_node,time,activation):\n",
    "    '''A customizable method to simulate once. It controls what data you're collecting.'''\n",
    "    grids_list=Grids_.get_list()\n",
    "    for t in range(time): #Set max time limit\n",
    "        for grid in grids_list:\n",
    "            grid.update(Grids_)\n",
    "        Grids_.virtual_grid.update_anti()\n",
    "        Lymph.update(Grids_,activation)\n",
    "        dist=Grids_.cancer_distribution() #Get cancer feature distribution\n",
    "        antidist=Grids_.sample_antibody_dist() #This gives antibody distribution sample\n",
    "        if len(dist)>1:\n",
    "            cov_matrix = np.cov(dist, rowvar=False)  # Calculates the variance of all the cancer features\n",
    "            spatial_variance_trace = cov_matrix[0, 0] + cov_matrix[1, 1]\n",
    "        else: spatial_variance_trace=0\n",
    "        print(\"Time\",Grids_.time,\"Cancer:\",Grids_.cancer_n,\"; Antibody:\",Lymph.new_anti) #Print live status update\n",
    "        new_data=[Grids_.cancer_n,Lymph.new_anti,spatial_variance_trace ] #This controls what data you're collecting\n",
    "        for i in range(len(new_data)): \n",
    "            data[i].append(new_data[i])\n",
    "        if Grids_.cancer_n>2000 or Grids_.cancer_n==0: return Grids_,data #Termination condition\n",
    "        Grids_.time+=1\n",
    "    return Grids_,data\n",
    "    "
   ]
  },
  {
   "cell_type": "markdown",
   "metadata": {},
   "source": [
    "# Usage example"
   ]
  },
  {
   "cell_type": "code",
   "execution_count": 3,
   "metadata": {},
   "outputs": [
    {
     "name": "stdout",
     "output_type": "stream",
     "text": [
      "Time 0 Cancer: 67 ; Antibody: 0\n",
      "Time 1 Cancer: 70 ; Antibody: 0\n",
      "Time 2 Cancer: 78 ; Antibody: 0\n",
      "Time 3 Cancer: 84 ; Antibody: 0\n",
      "Time 4 Cancer: 90 ; Antibody: 0\n",
      "Time 5 Cancer: 100 ; Antibody: 0\n",
      "Time 6 Cancer: 106 ; Antibody: 0\n",
      "Time 7 Cancer: 118 ; Antibody: 0\n",
      "Time 8 Cancer: 127 ; Antibody: 0\n",
      "Time 9 Cancer: 139 ; Antibody: 0\n",
      "Time 10 Cancer: 148 ; Antibody: 0\n",
      "Time 11 Cancer: 160 ; Antibody: 0\n",
      "Time 12 Cancer: 174 ; Antibody: 0\n",
      "Time 13 Cancer: 194 ; Antibody: 0\n",
      "Time 14 Cancer: 208 ; Antibody: 0\n",
      "Time 15 Cancer: 230 ; Antibody: 0\n",
      "Time 16 Cancer: 251 ; Antibody: 0\n",
      "Time 17 Cancer: 277 ; Antibody: 0\n",
      "Time 18 Cancer: 303 ; Antibody: 0\n",
      "Time 19 Cancer: 323 ; Antibody: 25\n",
      "Time 20 Cancer: 342 ; Antibody: 10\n",
      "Time 21 Cancer: 369 ; Antibody: 6\n",
      "Time 22 Cancer: 391 ; Antibody: 11\n",
      "Time 23 Cancer: 421 ; Antibody: 6\n",
      "Time 24 Cancer: 453 ; Antibody: 25\n",
      "Time 25 Cancer: 264 ; Antibody: 15\n",
      "Time 26 Cancer: 215 ; Antibody: 9\n",
      "Time 27 Cancer: 210 ; Antibody: 9\n",
      "Time 28 Cancer: 224 ; Antibody: 8\n",
      "Time 29 Cancer: 234 ; Antibody: 32\n",
      "Time 30 Cancer: 223 ; Antibody: 16\n",
      "Time 31 Cancer: 219 ; Antibody: 9\n",
      "Time 32 Cancer: 253 ; Antibody: 8\n",
      "Time 33 Cancer: 277 ; Antibody: 13\n",
      "Time 34 Cancer: 318 ; Antibody: 32\n",
      "Time 35 Cancer: 240 ; Antibody: 17\n",
      "Time 36 Cancer: 210 ; Antibody: 7\n",
      "Time 37 Cancer: 209 ; Antibody: 18\n",
      "Time 38 Cancer: 208 ; Antibody: 8\n",
      "Time 39 Cancer: 235 ; Antibody: 31\n",
      "Time 40 Cancer: 212 ; Antibody: 23\n",
      "Time 41 Cancer: 189 ; Antibody: 9\n",
      "Time 42 Cancer: 195 ; Antibody: 15\n",
      "Time 43 Cancer: 202 ; Antibody: 10\n",
      "Time 44 Cancer: 206 ; Antibody: 37\n",
      "Time 45 Cancer: 183 ; Antibody: 22\n",
      "Time 46 Cancer: 168 ; Antibody: 6\n",
      "Time 47 Cancer: 164 ; Antibody: 11\n",
      "Time 48 Cancer: 173 ; Antibody: 18\n",
      "Time 49 Cancer: 191 ; Antibody: 41\n",
      "Time 50 Cancer: 152 ; Antibody: 30\n",
      "Time 51 Cancer: 142 ; Antibody: 9\n",
      "Time 52 Cancer: 141 ; Antibody: 12\n",
      "Time 53 Cancer: 142 ; Antibody: 13\n",
      "Time 54 Cancer: 138 ; Antibody: 39\n",
      "Time 55 Cancer: 121 ; Antibody: 32\n",
      "Time 56 Cancer: 115 ; Antibody: 7\n",
      "Time 57 Cancer: 112 ; Antibody: 12\n",
      "Time 58 Cancer: 110 ; Antibody: 12\n",
      "Time 59 Cancer: 120 ; Antibody: 41\n",
      "Time 60 Cancer: 107 ; Antibody: 23\n",
      "Time 61 Cancer: 96 ; Antibody: 11\n",
      "Time 62 Cancer: 89 ; Antibody: 12\n",
      "Time 63 Cancer: 95 ; Antibody: 16\n",
      "Time 64 Cancer: 91 ; Antibody: 41\n",
      "Time 65 Cancer: 82 ; Antibody: 22\n",
      "Time 66 Cancer: 76 ; Antibody: 18\n",
      "Time 67 Cancer: 69 ; Antibody: 12\n",
      "Time 68 Cancer: 67 ; Antibody: 13\n",
      "Time 69 Cancer: 74 ; Antibody: 35\n",
      "Time 70 Cancer: 63 ; Antibody: 31\n",
      "Time 71 Cancer: 60 ; Antibody: 15\n",
      "Time 72 Cancer: 62 ; Antibody: 16\n",
      "Time 73 Cancer: 61 ; Antibody: 12\n",
      "Time 74 Cancer: 63 ; Antibody: 37\n",
      "Time 75 Cancer: 57 ; Antibody: 29\n",
      "Time 76 Cancer: 48 ; Antibody: 10\n",
      "Time 77 Cancer: 40 ; Antibody: 19\n",
      "Time 78 Cancer: 37 ; Antibody: 14\n",
      "Time 79 Cancer: 37 ; Antibody: 36\n",
      "Time 80 Cancer: 34 ; Antibody: 25\n",
      "Time 81 Cancer: 31 ; Antibody: 18\n",
      "Time 82 Cancer: 37 ; Antibody: 16\n",
      "Time 83 Cancer: 34 ; Antibody: 18\n",
      "Time 84 Cancer: 29 ; Antibody: 34\n",
      "Time 85 Cancer: 27 ; Antibody: 19\n",
      "Time 86 Cancer: 20 ; Antibody: 17\n",
      "Time 87 Cancer: 17 ; Antibody: 15\n",
      "Time 88 Cancer: 18 ; Antibody: 19\n",
      "Time 89 Cancer: 16 ; Antibody: 35\n",
      "Time 90 Cancer: 13 ; Antibody: 18\n",
      "Time 91 Cancer: 9 ; Antibody: 17\n",
      "Time 92 Cancer: 9 ; Antibody: 14\n",
      "Time 93 Cancer: 11 ; Antibody: 26\n",
      "Time 94 Cancer: 13 ; Antibody: 37\n",
      "Time 95 Cancer: 11 ; Antibody: 22\n",
      "Time 96 Cancer: 8 ; Antibody: 11\n",
      "Time 97 Cancer: 7 ; Antibody: 13\n",
      "Time 98 Cancer: 7 ; Antibody: 13\n",
      "Time 99 Cancer: 9 ; Antibody: 49\n",
      "Time 100 Cancer: 5 ; Antibody: 22\n",
      "Time 101 Cancer: 5 ; Antibody: 8\n",
      "Time 102 Cancer: 4 ; Antibody: 19\n",
      "Time 103 Cancer: 5 ; Antibody: 14\n",
      "Time 104 Cancer: 4 ; Antibody: 46\n",
      "Time 105 Cancer: 5 ; Antibody: 23\n",
      "Time 106 Cancer: 3 ; Antibody: 13\n",
      "Time 107 Cancer: 3 ; Antibody: 19\n",
      "Time 108 Cancer: 3 ; Antibody: 11\n",
      "Time 109 Cancer: 3 ; Antibody: 39\n",
      "Time 110 Cancer: 1 ; Antibody: 23\n",
      "Time 111 Cancer: 1 ; Antibody: 8\n",
      "Time 112 Cancer: 0 ; Antibody: 25\n"
     ]
    }
   ],
   "source": [
    "c_mut_p=0.55 # set mutation rate\n",
    "\n",
    "feature_d=2 # Set feature dimension\n",
    "\n",
    "activation=\"B\" #Set mode of immune activation. There are B, TN, DN, N. Broad, triple narrow, double narrow, narrow.\n",
    "\n",
    "antibody_inactive_time=4 #Time before antibody become active after it is diffused\n",
    "antibody_active_time=150 #unit time before antibody disappear.\n",
    "effectiveness=6 #Effectiveness exponent coefficient\n",
    "physical_scale=40 #nxnxn\n",
    "cancer_cord=[]\n",
    "for i in range(4): #Generate the initial coordinates for the initial cancer batch. \n",
    "    for o in range(4):\n",
    "        for j in range(4):\n",
    "            cancer_cord.append((i,o,j))\n",
    "cancer_feature=Feature((1,1,1,1)[:feature_d]) # A random feature to assign to the initial batch of cancer. Truncated to the feature dimension\n",
    "time=150 #Max simulation time\n",
    "c_rep=0.4 #Cancer replication rate\n",
    "match_rate:float=1/50 #Match rate\n",
    "\n",
    "data=[[],[],[],[]] #cancer count, new antibody,cancer dist, Antibody Distribution. To collect data\n",
    "Grids_=Grids(physical_scale,cancer_cord,cancer_feature,c_mut_p,c_rep)\n",
    "Lymph=Lymph_node(match_rate,antibody_inactive_time,effectiveness)\n",
    "grids_,data=simulate(data,Grids_,Lymph,time,activation)\n"
   ]
  },
  {
   "cell_type": "code",
   "execution_count": 4,
   "metadata": {},
   "outputs": [
    {
     "data": {
      "text/plain": [
       "Text(0.5, 1.0, 'Cancer count')"
      ]
     },
     "execution_count": 4,
     "metadata": {},
     "output_type": "execute_result"
    },
    {
     "data": {
      "image/png": "[encoded data removed]",
      "text/plain": [
       "<Figure size 640x480 with 1 Axes>"
      ]
     },
     "metadata": {},
     "output_type": "display_data"
    }
   ],
   "source": [
    "data_=data[0]# Visualize cancer count\n",
    "plt.plot(range(len(data_)),data_)\n",
    "plt.title(\"Cancer count\")"
   ]
  }
 ],
 "metadata": {
  "kernelspec": {
   "display_name": "Python 3",
   "language": "python",
   "name": "python3"
  },
  "language_info": {
   "codemirror_mode": {
    "name": "ipython",
    "version": 3
   },
   "file_extension": ".py",
   "mimetype": "text/x-python",
   "name": "python",
   "nbconvert_exporter": "python",
   "pygments_lexer": "ipython3",
   "version": "3.10.11"
  },
  "orig_nbformat": 4
 },
 "nbformat": 4,
 "nbformat_minor": 2
}
